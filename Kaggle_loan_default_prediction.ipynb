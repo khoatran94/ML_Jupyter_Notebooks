{
 "cells": [
  {
   "cell_type": "markdown",
   "metadata": {
    "id": "eh0Zhz3xeLaq"
   },
   "source": [
    "# **Validation of Dataset for Defaulter Prediction Based on Customer Behavior**"
   ]
  },
  {
   "cell_type": "markdown",
   "metadata": {
    "id": "JPwSVU0UeXZO",
    "tags": []
   },
   "source": [
    "### **Introduction**\n",
    "\n",
    "Given a dataset of the past consumer loans, the potential defaulters should be predicted. The dataset is from Kaggle \n",
    "\n",
    "### **Data Source**\n",
    "\n",
    "https://www.kaggle.com/datasets/subhamjain/loan-prediction-based-on-customer-behavior\n",
    "\n",
    "### **Data Format**\n",
    "\n",
    "* ID: Id of the loanees\n",
    "* Income: Income of the loanees\n",
    "* Age: Age of the loanees\n",
    "* Experience: Professional experience (in years)\n",
    "* Profession: Profession of the loanees \n",
    "* Married/Single: Married or not\n",
    "* House_Ownership: Owned or rented or neither\n",
    "* Car_Ownership: Does loanee own a car or not\n",
    "* STATE: State of residence\n",
    "* CITY: City of residence\n",
    "* CURRENT_JOB_YRS: time with the current job (in years)\n",
    "* CURRENT_HOUSE_YRS: time with the current house (in years)\n",
    "* Risk_Flag: Defaulted on a loan (Target variable) (1 for being a defaulter, and 0 for not)\n",
    "\n",
    "### **Training and Validation**\n",
    "\n",
    "The zip file contains:\n",
    "* Training Data.csv: training data with data format as above\n",
    "* Test Data.csv: test data with the same predictor variables (without Risk_flag colummn)\n",
    "* Sample Prediction Dataset.csv: test data labels (only Risk_flag column)\n",
    "\n"
   ]
  },
  {
   "cell_type": "markdown",
   "metadata": {
    "id": "RJMO-yyHku2b",
    "tags": []
   },
   "source": [
    "## **Importing libraries**"
   ]
  },
  {
   "cell_type": "code",
   "execution_count": 1,
   "metadata": {
    "id": "5xlWt7Sze3Gx",
    "tags": []
   },
   "outputs": [],
   "source": [
    "import pandas as pd\n",
    "from sklearn.model_selection import train_test_split\n",
    "from sklearn.ensemble import RandomForestClassifier\n",
    "from sklearn.metrics import accuracy_score\n",
    "from sklearn.metrics import f1_score\n",
    "from sklearn.metrics import precision_score\n",
    "from sklearn.metrics import recall_score\n",
    "from sklearn.metrics import roc_curve\n",
    "from sklearn.metrics import roc_auc_score\n",
    "from sklearn.metrics import confusion_matrix\n",
    "import matplotlib.pyplot as plt\n",
    "from imblearn.over_sampling import RandomOverSampler\n",
    "from imblearn.over_sampling import SMOTENC\n",
    "import re"
   ]
  },
  {
   "cell_type": "markdown",
   "metadata": {
    "id": "sLzxLAbHm8xR"
   },
   "source": [
    "## **Loading and preprocessing the datasets**"
   ]
  },
  {
   "cell_type": "markdown",
   "metadata": {
    "id": "-GD5bYX-szTi"
   },
   "source": [
    "### **Training data inspection**"
   ]
  },
  {
   "cell_type": "code",
   "execution_count": 2,
   "metadata": {
    "colab": {
     "base_uri": "https://localhost:8080/",
     "height": 270
    },
    "id": "G0mFBvQbwGTf",
    "outputId": "bff008de-7804-46d4-c82a-7c4334c09882",
    "tags": []
   },
   "outputs": [
    {
     "data": {
      "text/html": [
       "<div>\n",
       "<style scoped>\n",
       "    .dataframe tbody tr th:only-of-type {\n",
       "        vertical-align: middle;\n",
       "    }\n",
       "\n",
       "    .dataframe tbody tr th {\n",
       "        vertical-align: top;\n",
       "    }\n",
       "\n",
       "    .dataframe thead th {\n",
       "        text-align: right;\n",
       "    }\n",
       "</style>\n",
       "<table border=\"1\" class=\"dataframe\">\n",
       "  <thead>\n",
       "    <tr style=\"text-align: right;\">\n",
       "      <th></th>\n",
       "      <th>Id</th>\n",
       "      <th>Income</th>\n",
       "      <th>Age</th>\n",
       "      <th>Experience</th>\n",
       "      <th>Married/Single</th>\n",
       "      <th>House_Ownership</th>\n",
       "      <th>Car_Ownership</th>\n",
       "      <th>Profession</th>\n",
       "      <th>CITY</th>\n",
       "      <th>STATE</th>\n",
       "      <th>CURRENT_JOB_YRS</th>\n",
       "      <th>CURRENT_HOUSE_YRS</th>\n",
       "      <th>Risk_Flag</th>\n",
       "    </tr>\n",
       "  </thead>\n",
       "  <tbody>\n",
       "    <tr>\n",
       "      <th>0</th>\n",
       "      <td>1</td>\n",
       "      <td>1303834</td>\n",
       "      <td>23</td>\n",
       "      <td>3</td>\n",
       "      <td>single</td>\n",
       "      <td>rented</td>\n",
       "      <td>no</td>\n",
       "      <td>Mechanical_engineer</td>\n",
       "      <td>Rewa</td>\n",
       "      <td>Madhya_Pradesh</td>\n",
       "      <td>3</td>\n",
       "      <td>13</td>\n",
       "      <td>0</td>\n",
       "    </tr>\n",
       "    <tr>\n",
       "      <th>1</th>\n",
       "      <td>2</td>\n",
       "      <td>7574516</td>\n",
       "      <td>40</td>\n",
       "      <td>10</td>\n",
       "      <td>single</td>\n",
       "      <td>rented</td>\n",
       "      <td>no</td>\n",
       "      <td>Software_Developer</td>\n",
       "      <td>Parbhani</td>\n",
       "      <td>Maharashtra</td>\n",
       "      <td>9</td>\n",
       "      <td>13</td>\n",
       "      <td>0</td>\n",
       "    </tr>\n",
       "    <tr>\n",
       "      <th>2</th>\n",
       "      <td>3</td>\n",
       "      <td>3991815</td>\n",
       "      <td>66</td>\n",
       "      <td>4</td>\n",
       "      <td>married</td>\n",
       "      <td>rented</td>\n",
       "      <td>no</td>\n",
       "      <td>Technical_writer</td>\n",
       "      <td>Alappuzha</td>\n",
       "      <td>Kerala</td>\n",
       "      <td>4</td>\n",
       "      <td>10</td>\n",
       "      <td>0</td>\n",
       "    </tr>\n",
       "    <tr>\n",
       "      <th>3</th>\n",
       "      <td>4</td>\n",
       "      <td>6256451</td>\n",
       "      <td>41</td>\n",
       "      <td>2</td>\n",
       "      <td>single</td>\n",
       "      <td>rented</td>\n",
       "      <td>yes</td>\n",
       "      <td>Software_Developer</td>\n",
       "      <td>Bhubaneswar</td>\n",
       "      <td>Odisha</td>\n",
       "      <td>2</td>\n",
       "      <td>12</td>\n",
       "      <td>1</td>\n",
       "    </tr>\n",
       "    <tr>\n",
       "      <th>4</th>\n",
       "      <td>5</td>\n",
       "      <td>5768871</td>\n",
       "      <td>47</td>\n",
       "      <td>11</td>\n",
       "      <td>single</td>\n",
       "      <td>rented</td>\n",
       "      <td>no</td>\n",
       "      <td>Civil_servant</td>\n",
       "      <td>Tiruchirappalli[10]</td>\n",
       "      <td>Tamil_Nadu</td>\n",
       "      <td>3</td>\n",
       "      <td>14</td>\n",
       "      <td>1</td>\n",
       "    </tr>\n",
       "  </tbody>\n",
       "</table>\n",
       "</div>"
      ],
      "text/plain": [
       "   Id   Income  Age  Experience Married/Single House_Ownership Car_Ownership  \\\n",
       "0   1  1303834   23           3         single          rented            no   \n",
       "1   2  7574516   40          10         single          rented            no   \n",
       "2   3  3991815   66           4        married          rented            no   \n",
       "3   4  6256451   41           2         single          rented           yes   \n",
       "4   5  5768871   47          11         single          rented            no   \n",
       "\n",
       "            Profession                 CITY           STATE  CURRENT_JOB_YRS  \\\n",
       "0  Mechanical_engineer                 Rewa  Madhya_Pradesh                3   \n",
       "1   Software_Developer             Parbhani     Maharashtra                9   \n",
       "2     Technical_writer            Alappuzha          Kerala                4   \n",
       "3   Software_Developer          Bhubaneswar          Odisha                2   \n",
       "4        Civil_servant  Tiruchirappalli[10]      Tamil_Nadu                3   \n",
       "\n",
       "   CURRENT_HOUSE_YRS  Risk_Flag  \n",
       "0                 13          0  \n",
       "1                 13          0  \n",
       "2                 10          0  \n",
       "3                 12          1  \n",
       "4                 14          1  "
      ]
     },
     "execution_count": 2,
     "metadata": {},
     "output_type": "execute_result"
    }
   ],
   "source": [
    "train_data = pd.read_csv('Training Data.csv', on_bad_lines='warn') # make sure all the csv files are in the working directory\n",
    "train_data.head()\n"
   ]
  },
  {
   "cell_type": "code",
   "execution_count": 3,
   "metadata": {
    "colab": {
     "base_uri": "https://localhost:8080/"
    },
    "id": "0f_nKEhLqGP8",
    "outputId": "37e80607-2695-41c3-dd3a-9d8ced637a23",
    "tags": []
   },
   "outputs": [
    {
     "name": "stdout",
     "output_type": "stream",
     "text": [
      "training set size: 252000 data points with 13 columns\n",
      "\n"
     ]
    },
    {
     "data": {
      "text/plain": [
       "Id                    int64\n",
       "Income                int64\n",
       "Age                   int64\n",
       "Experience            int64\n",
       "Married/Single       object\n",
       "House_Ownership      object\n",
       "Car_Ownership        object\n",
       "Profession           object\n",
       "CITY                 object\n",
       "STATE                object\n",
       "CURRENT_JOB_YRS       int64\n",
       "CURRENT_HOUSE_YRS     int64\n",
       "Risk_Flag             int64\n",
       "dtype: object"
      ]
     },
     "execution_count": 3,
     "metadata": {},
     "output_type": "execute_result"
    }
   ],
   "source": [
    "print('training set size: {} data points with {} columns\\n'.format(train_data.shape[0], train_data.shape[1]))\n",
    "train_data.dtypes"
   ]
  },
  {
   "cell_type": "code",
   "execution_count": 4,
   "metadata": {
    "colab": {
     "base_uri": "https://localhost:8080/"
    },
    "id": "6X_mawa2sQno",
    "outputId": "97afe868-500d-4f55-8ee8-925888588c1d",
    "tags": []
   },
   "outputs": [
    {
     "data": {
      "text/plain": [
       "Id                   False\n",
       "Income               False\n",
       "Age                  False\n",
       "Experience           False\n",
       "Married/Single       False\n",
       "House_Ownership      False\n",
       "Car_Ownership        False\n",
       "Profession           False\n",
       "CITY                 False\n",
       "STATE                False\n",
       "CURRENT_JOB_YRS      False\n",
       "CURRENT_HOUSE_YRS    False\n",
       "Risk_Flag            False\n",
       "dtype: bool"
      ]
     },
     "execution_count": 4,
     "metadata": {},
     "output_type": "execute_result"
    }
   ],
   "source": [
    "# checking for NaN values\n",
    "train_data.isnull().any()"
   ]
  },
  {
   "cell_type": "code",
   "execution_count": 5,
   "metadata": {
    "colab": {
     "base_uri": "https://localhost:8080/"
    },
    "id": "LPhRCydOteDS",
    "outputId": "aca0d819-1321-4217-a4f4-1c2656115d93",
    "tags": []
   },
   "outputs": [
    {
     "name": "stdout",
     "output_type": "stream",
     "text": [
      "Married/Single: \n",
      " ['single' 'married']\n",
      "House_Ownership: \n",
      " ['rented' 'norent_noown' 'owned']\n",
      "Car_Ownership: \n",
      " ['no' 'yes']\n",
      "Profession: \n",
      " ['Mechanical_engineer' 'Software_Developer' 'Technical_writer'\n",
      " 'Civil_servant' 'Librarian' 'Economist' 'Flight_attendant' 'Architect'\n",
      " 'Designer' 'Physician' 'Financial_Analyst' 'Air_traffic_controller'\n",
      " 'Politician' 'Police_officer' 'Artist' 'Surveyor' 'Design_Engineer'\n",
      " 'Chemical_engineer' 'Hotel_Manager' 'Dentist' 'Comedian'\n",
      " 'Biomedical_Engineer' 'Graphic_Designer' 'Computer_hardware_engineer'\n",
      " 'Petroleum_Engineer' 'Secretary' 'Computer_operator'\n",
      " 'Chartered_Accountant' 'Technician' 'Microbiologist' 'Fashion_Designer'\n",
      " 'Aviator' 'Psychologist' 'Magistrate' 'Lawyer' 'Firefighter' 'Engineer'\n",
      " 'Official' 'Analyst' 'Geologist' 'Drafter' 'Statistician' 'Web_designer'\n",
      " 'Consultant' 'Chef' 'Army_officer' 'Surgeon' 'Scientist' 'Civil_engineer'\n",
      " 'Industrial_Engineer' 'Technology_specialist']\n",
      "CITY: \n",
      " ['Rewa' 'Parbhani' 'Alappuzha' 'Bhubaneswar' 'Tiruchirappalli[10]'\n",
      " 'Jalgaon' 'Tiruppur' 'Jamnagar' 'Kota[6]' 'Karimnagar' 'Hajipur[31]'\n",
      " 'Adoni' 'Erode[17]' 'Kollam' 'Madurai' 'Anantapuram[24]' 'Kamarhati'\n",
      " 'Bhusawal' 'Sirsa' 'Amaravati' 'Secunderabad' 'Ahmedabad' 'Ajmer'\n",
      " 'Ongole' 'Miryalaguda' 'Ambattur' 'Indore' 'Pondicherry' 'Shimoga'\n",
      " 'Chennai' 'Gulbarga' 'Khammam' 'Saharanpur' 'Gopalpur' 'Amravati' 'Udupi'\n",
      " 'Howrah' 'Aurangabad[39]' 'Hospet' 'Shimla' 'Khandwa' 'Bidhannagar'\n",
      " 'Bellary' 'Danapur' 'Purnia[26]' 'Bijapur' 'Patiala' 'Malda' 'Sagar'\n",
      " 'Durgapur' 'Junagadh' 'Singrauli' 'Agartala' 'Thanjavur' 'Hindupur'\n",
      " 'Naihati' 'North_Dumdum' 'Panchkula' 'Anantapur' 'Serampore' 'Bathinda'\n",
      " 'Nadiad' 'Kanpur' 'Haridwar' 'Berhampur' 'Jamshedpur' 'Hyderabad' 'Bidar'\n",
      " 'Kottayam' 'Solapur' 'Suryapet' 'Aizawl' 'Asansol' 'Deoghar' 'Eluru[25]'\n",
      " 'Ulhasnagar' 'Aligarh' 'South_Dumdum' 'Berhampore' 'Gandhinagar'\n",
      " 'Sonipat' 'Muzaffarpur' 'Raichur' 'Rajpur_Sonarpur' 'Ambarnath' 'Katihar'\n",
      " 'Kozhikode' 'Vellore' 'Malegaon' 'Kochi' 'Nagaon' 'Nagpur' 'Srinagar'\n",
      " 'Davanagere' 'Bhagalpur' 'Siwan[32]' 'Meerut' 'Dindigul' 'Bhatpara'\n",
      " 'Ghaziabad' 'Kulti' 'Chapra' 'Dibrugarh' 'Panihati' 'Bhiwandi' 'Morbi'\n",
      " 'Kalyan-Dombivli' 'Gorakhpur' 'Panvel' 'Siliguri' 'Bongaigaon' 'Patna'\n",
      " 'Ramgarh' 'Ozhukarai' 'Mirzapur' 'Akola' 'Satna' 'Motihari[34]' 'Jalna'\n",
      " 'Jalandhar' 'Unnao' 'Karnal' 'Cuttack' 'Proddatur' 'Ichalkaranji'\n",
      " 'Warangal[11][12]' 'Jhansi' 'Bulandshahr' 'Narasaraopet' 'Chinsurah'\n",
      " 'Jehanabad[38]' 'Dhanbad' 'Gudivada' 'Gandhidham' 'Raiganj'\n",
      " 'Kishanganj[35]' 'Varanasi' 'Belgaum' 'Tirupati[21][22]' 'Tumkur'\n",
      " 'Coimbatore' 'Kurnool[18]' 'Gurgaon' 'Muzaffarnagar' 'Aurangabad'\n",
      " 'Bhavnagar' 'Arrah' 'Munger' 'Tirunelveli' 'Mumbai' 'Mango' 'Nashik'\n",
      " 'Kadapa[23]' 'Amritsar' 'Khora,_Ghaziabad' 'Ambala' 'Agra' 'Ratlam'\n",
      " 'Surendranagar_Dudhrej' 'Delhi_city' 'Bhopal' 'Hapur' 'Rohtak' 'Durg'\n",
      " 'Korba' 'Bangalore' 'Shivpuri' 'Thrissur' 'Vijayanagaram' 'Farrukhabad'\n",
      " 'Nangloi_Jat' 'Madanapalle' 'Thoothukudi' 'Nagercoil' 'Gaya'\n",
      " 'Chandigarh_city' 'Jammu[16]' 'Kakinada' 'Dewas' 'Bhalswa_Jahangir_Pur'\n",
      " 'Baranagar' 'Firozabad' 'Phusro' 'Allahabad' 'Guna' 'Thane' 'Etawah'\n",
      " 'Vasai-Virar' 'Pallavaram' 'Morena' 'Ballia' 'Surat' 'Burhanpur'\n",
      " 'Phagwara' 'Mau' 'Mangalore' 'Alwar' 'Mahbubnagar' 'Maheshtala'\n",
      " 'Hazaribagh' 'Bihar_Sharif' 'Faridabad' 'Lucknow' 'Tenali' 'Barasat'\n",
      " 'Amroha' 'Giridih' 'Begusarai' 'Medininagar' 'Rajahmundry[19][20]'\n",
      " 'Saharsa[29]' 'New_Delhi' 'Bhilai' 'Moradabad' 'Machilipatnam'\n",
      " 'Mira-Bhayandar' 'Pali' 'Navi_Mumbai' 'Mehsana' 'Imphal' 'Kolkata'\n",
      " 'Sambalpur' 'Ujjain' 'Madhyamgram' 'Jabalpur' 'Jamalpur[36]' 'Ludhiana'\n",
      " 'Bareilly' 'Gangtok' 'Anand' 'Dehradun' 'Pune' 'Satara' 'Srikakulam'\n",
      " 'Raipur' 'Jodhpur' 'Darbhanga' 'Nizamabad' 'Nandyal' 'Dehri[30]' 'Jorhat'\n",
      " 'Ranchi' 'Kumbakonam' 'Guntakal' 'Haldia' 'Loni' 'Pimpri-Chinchwad'\n",
      " 'Rajkot' 'Nanded' 'Noida' 'Kirari_Suleman_Nagar' 'Jaunpur' 'Bilaspur'\n",
      " 'Sambhal' 'Dhule' 'Rourkela' 'Thiruvananthapuram' 'Dharmavaram'\n",
      " 'Nellore[14][15]' 'Visakhapatnam[4]' 'Karawal_Nagar' 'Jaipur' 'Avadi'\n",
      " 'Bhimavaram' 'Bardhaman' 'Silchar' 'Buxar[37]' 'Kavali' 'Tezpur'\n",
      " 'Ramagundam[27]' 'Yamunanagar' 'Sri_Ganganagar' 'Sasaram[30]' 'Sikar'\n",
      " 'Bally' 'Bhiwani' 'Rampur' 'Uluberia' 'Sangli-Miraj_&_Kupwad' 'Hosur'\n",
      " 'Bikaner' 'Shahjahanpur' 'Sultan_Pur_Majra' 'Vijayawada' 'Bharatpur'\n",
      " 'Tadepalligudem' 'Tinsukia' 'Salem' 'Mathura' 'Guntur[13]'\n",
      " 'Hubliâ€“Dharwad' 'Guwahati' 'Chittoor[28]' 'Tiruvottiyur' 'Vadodara'\n",
      " 'Ahmednagar' 'Fatehpur' 'Bhilwara' 'Kharagpur' 'Bettiah[33]' 'Bhind'\n",
      " 'Bokaro' 'Karaikudi' 'Raebareli' 'Pudukkottai' 'Udaipur'\n",
      " 'Mysore[7][8][9]' 'Panipat' 'Latur' 'Tadipatri' 'Bahraich' 'Orai'\n",
      " 'Raurkela_Industrial_Township' 'Gwalior' 'Katni' 'Chandrapur' 'Kolhapur']\n",
      "STATE: \n",
      " ['Madhya_Pradesh' 'Maharashtra' 'Kerala' 'Odisha' 'Tamil_Nadu' 'Gujarat'\n",
      " 'Rajasthan' 'Telangana' 'Bihar' 'Andhra_Pradesh' 'West_Bengal' 'Haryana'\n",
      " 'Puducherry' 'Karnataka' 'Uttar_Pradesh' 'Himachal_Pradesh' 'Punjab'\n",
      " 'Tripura' 'Uttarakhand' 'Jharkhand' 'Mizoram' 'Assam' 'Jammu_and_Kashmir'\n",
      " 'Delhi' 'Chhattisgarh' 'Chandigarh' 'Uttar_Pradesh[5]' 'Manipur' 'Sikkim']\n"
     ]
    }
   ],
   "source": [
    "columns = ['Married/Single', 'House_Ownership', 'Car_Ownership', 'Profession', 'CITY', 'STATE']\n",
    "for column in columns:\n",
    "    print('{}: \\n {}'.format(column,train_data[column].unique()))"
   ]
  },
  {
   "cell_type": "code",
   "execution_count": 6,
   "metadata": {
    "id": "HS7oRlYUuMh9",
    "tags": []
   },
   "outputs": [],
   "source": [
    "# cleaning the categorical vars\n",
    "def cleaner(text):\n",
    "    text = text.lower()\n",
    "    text = ' '.join(re.findall(r'[a-zA-Z]+',text))\n",
    "    return text\n",
    "\n",
    "\n",
    "for i in train_data.select_dtypes(include='object').columns:\n",
    "    train_data[i] =train_data[i].apply(cleaner)"
   ]
  },
  {
   "cell_type": "code",
   "execution_count": 7,
   "metadata": {
    "colab": {
     "base_uri": "https://localhost:8080/"
    },
    "id": "cPs0Xg1RulFM",
    "outputId": "4081e353-c711-4946-ae14-2942edb1ab29",
    "tags": []
   },
   "outputs": [
    {
     "data": {
      "text/plain": [
       "(43190, 12)"
      ]
     },
     "execution_count": 7,
     "metadata": {},
     "output_type": "execute_result"
    }
   ],
   "source": [
    "train_data = train_data.drop('Id', axis=1).drop_duplicates(keep='first')\n",
    "train_data.shape"
   ]
  },
  {
   "cell_type": "code",
   "execution_count": 8,
   "metadata": {
    "colab": {
     "base_uri": "https://localhost:8080/"
    },
    "id": "HA92b6gzuw1a",
    "outputId": "caffef54-cb0e-4952-b0b1-2b40318665db",
    "tags": []
   },
   "outputs": [
    {
     "data": {
      "text/plain": [
       "(40824, 12)"
      ]
     },
     "execution_count": 8,
     "metadata": {},
     "output_type": "execute_result"
    }
   ],
   "source": [
    "vars = ['Income', 'Age', 'Experience', 'Married/Single', 'House_Ownership', 'Car_Ownership', 'Profession', 'CITY', 'STATE', 'CURRENT_JOB_YRS', 'CURRENT_HOUSE_YRS']\n",
    "train_data = train_data[~train_data.duplicated(subset=vars, keep=False)]\n",
    "train_data.shape"
   ]
  },
  {
   "cell_type": "markdown",
   "metadata": {
    "id": "S8_uXYtvu-7r"
   },
   "source": [
    "### **Remarks**\n",
    "\n",
    "1. **Duplicate**: The original training data has 252000 observations (shape: (252000,13)) but after removing all duplicates, only 43190 data points remain.\n",
    "2. **Random labeling**: The remaining data points consist cases where all predictor variables are exactly the same but with different label (Risk_flag)\n",
    "\n",
    "With those observations, the integrity of the training data is highly questionable\n"
   ]
  },
  {
   "cell_type": "markdown",
   "metadata": {
    "id": "YR-Iptwwyu7e"
   },
   "source": [
    "### **Test data inspection**"
   ]
  },
  {
   "cell_type": "code",
   "execution_count": 9,
   "metadata": {
    "colab": {
     "base_uri": "https://localhost:8080/",
     "height": 305
    },
    "id": "vL5lUejXs_gf",
    "outputId": "f1aadeca-83bb-448e-b563-2432636241a5",
    "tags": []
   },
   "outputs": [
    {
     "data": {
      "text/html": [
       "<div>\n",
       "<style scoped>\n",
       "    .dataframe tbody tr th:only-of-type {\n",
       "        vertical-align: middle;\n",
       "    }\n",
       "\n",
       "    .dataframe tbody tr th {\n",
       "        vertical-align: top;\n",
       "    }\n",
       "\n",
       "    .dataframe thead th {\n",
       "        text-align: right;\n",
       "    }\n",
       "</style>\n",
       "<table border=\"1\" class=\"dataframe\">\n",
       "  <thead>\n",
       "    <tr style=\"text-align: right;\">\n",
       "      <th></th>\n",
       "      <th>ID</th>\n",
       "      <th>Income</th>\n",
       "      <th>Age</th>\n",
       "      <th>Experience</th>\n",
       "      <th>Married/Single</th>\n",
       "      <th>House_Ownership</th>\n",
       "      <th>Car_Ownership</th>\n",
       "      <th>Profession</th>\n",
       "      <th>CITY</th>\n",
       "      <th>STATE</th>\n",
       "      <th>CURRENT_JOB_YRS</th>\n",
       "      <th>CURRENT_HOUSE_YRS</th>\n",
       "      <th>risk_flag</th>\n",
       "    </tr>\n",
       "  </thead>\n",
       "  <tbody>\n",
       "    <tr>\n",
       "      <th>0</th>\n",
       "      <td>1</td>\n",
       "      <td>7393090</td>\n",
       "      <td>59</td>\n",
       "      <td>19</td>\n",
       "      <td>single</td>\n",
       "      <td>rented</td>\n",
       "      <td>no</td>\n",
       "      <td>Geologist</td>\n",
       "      <td>Malda</td>\n",
       "      <td>West Bengal</td>\n",
       "      <td>4</td>\n",
       "      <td>13</td>\n",
       "      <td>0</td>\n",
       "    </tr>\n",
       "    <tr>\n",
       "      <th>1</th>\n",
       "      <td>2</td>\n",
       "      <td>1215004</td>\n",
       "      <td>25</td>\n",
       "      <td>5</td>\n",
       "      <td>single</td>\n",
       "      <td>rented</td>\n",
       "      <td>no</td>\n",
       "      <td>Firefighter</td>\n",
       "      <td>Jalna</td>\n",
       "      <td>Maharashtra</td>\n",
       "      <td>5</td>\n",
       "      <td>10</td>\n",
       "      <td>0</td>\n",
       "    </tr>\n",
       "    <tr>\n",
       "      <th>2</th>\n",
       "      <td>3</td>\n",
       "      <td>8901342</td>\n",
       "      <td>50</td>\n",
       "      <td>12</td>\n",
       "      <td>single</td>\n",
       "      <td>rented</td>\n",
       "      <td>no</td>\n",
       "      <td>Lawyer</td>\n",
       "      <td>Thane</td>\n",
       "      <td>Maharashtra</td>\n",
       "      <td>9</td>\n",
       "      <td>14</td>\n",
       "      <td>1</td>\n",
       "    </tr>\n",
       "    <tr>\n",
       "      <th>3</th>\n",
       "      <td>4</td>\n",
       "      <td>1944421</td>\n",
       "      <td>49</td>\n",
       "      <td>9</td>\n",
       "      <td>married</td>\n",
       "      <td>rented</td>\n",
       "      <td>yes</td>\n",
       "      <td>Analyst</td>\n",
       "      <td>Latur</td>\n",
       "      <td>Maharashtra</td>\n",
       "      <td>3</td>\n",
       "      <td>12</td>\n",
       "      <td>0</td>\n",
       "    </tr>\n",
       "    <tr>\n",
       "      <th>4</th>\n",
       "      <td>5</td>\n",
       "      <td>13429</td>\n",
       "      <td>25</td>\n",
       "      <td>18</td>\n",
       "      <td>single</td>\n",
       "      <td>rented</td>\n",
       "      <td>yes</td>\n",
       "      <td>Comedian</td>\n",
       "      <td>Berhampore</td>\n",
       "      <td>West Bengal</td>\n",
       "      <td>13</td>\n",
       "      <td>11</td>\n",
       "      <td>0</td>\n",
       "    </tr>\n",
       "  </tbody>\n",
       "</table>\n",
       "</div>"
      ],
      "text/plain": [
       "   ID   Income  Age  Experience Married/Single House_Ownership Car_Ownership  \\\n",
       "0   1  7393090   59          19         single          rented            no   \n",
       "1   2  1215004   25           5         single          rented            no   \n",
       "2   3  8901342   50          12         single          rented            no   \n",
       "3   4  1944421   49           9        married          rented           yes   \n",
       "4   5    13429   25          18         single          rented           yes   \n",
       "\n",
       "    Profession        CITY        STATE  CURRENT_JOB_YRS  CURRENT_HOUSE_YRS  \\\n",
       "0    Geologist       Malda  West Bengal                4                 13   \n",
       "1  Firefighter       Jalna  Maharashtra                5                 10   \n",
       "2       Lawyer       Thane  Maharashtra                9                 14   \n",
       "3      Analyst       Latur  Maharashtra                3                 12   \n",
       "4     Comedian  Berhampore  West Bengal               13                 11   \n",
       "\n",
       "   risk_flag  \n",
       "0          0  \n",
       "1          0  \n",
       "2          1  \n",
       "3          0  \n",
       "4          0  "
      ]
     },
     "execution_count": 9,
     "metadata": {},
     "output_type": "execute_result"
    }
   ],
   "source": [
    "X_test = pd.read_csv('Test Data.csv')\n",
    "y_test = pd.read_csv('Sample Prediction Dataset.csv')\n",
    "\n",
    "# merging predictor vars in X_test and target var in y_test to form the complete test set for further analysis\n",
    "y_test = y_test.rename(columns={\"id\": \"ID\"})\n",
    "test_data = X_test.merge(y_test, on='ID', how='inner')\n",
    "test_data.head()"
   ]
  },
  {
   "cell_type": "code",
   "execution_count": 10,
   "metadata": {
    "colab": {
     "base_uri": "https://localhost:8080/"
    },
    "id": "kGNLMihNy6ee",
    "outputId": "288ee6d1-e3d0-4193-8a08-323c5ed8f54b",
    "tags": []
   },
   "outputs": [
    {
     "data": {
      "text/plain": [
       "(28000, 13)"
      ]
     },
     "execution_count": 10,
     "metadata": {},
     "output_type": "execute_result"
    }
   ],
   "source": [
    "test_data.shape"
   ]
  },
  {
   "cell_type": "code",
   "execution_count": 11,
   "metadata": {
    "colab": {
     "base_uri": "https://localhost:8080/"
    },
    "id": "-DlL6UoZzLnn",
    "outputId": "f987493d-cb9a-48ef-c951-84d6cd951ddf",
    "tags": []
   },
   "outputs": [
    {
     "data": {
      "text/plain": [
       "ID                   False\n",
       "Income               False\n",
       "Age                  False\n",
       "Experience           False\n",
       "Married/Single       False\n",
       "House_Ownership      False\n",
       "Car_Ownership        False\n",
       "Profession           False\n",
       "CITY                 False\n",
       "STATE                False\n",
       "CURRENT_JOB_YRS      False\n",
       "CURRENT_HOUSE_YRS    False\n",
       "risk_flag            False\n",
       "dtype: bool"
      ]
     },
     "execution_count": 11,
     "metadata": {},
     "output_type": "execute_result"
    }
   ],
   "source": [
    "# checking for NaN values\n",
    "test_data.isnull().any()"
   ]
  },
  {
   "cell_type": "code",
   "execution_count": 12,
   "metadata": {
    "id": "l1gf2USNzA_q",
    "tags": []
   },
   "outputs": [],
   "source": [
    "for i in test_data.select_dtypes(include='object').columns:\n",
    "    test_data[i] = test_data[i].apply(cleaner)"
   ]
  },
  {
   "cell_type": "code",
   "execution_count": 13,
   "metadata": {
    "colab": {
     "base_uri": "https://localhost:8080/"
    },
    "id": "9mZ4zOVIzWX-",
    "outputId": "52c0c7bc-deb0-48da-98f5-5ec5d22d8363",
    "tags": []
   },
   "outputs": [
    {
     "data": {
      "text/plain": [
       "(12260, 12)"
      ]
     },
     "execution_count": 13,
     "metadata": {},
     "output_type": "execute_result"
    }
   ],
   "source": [
    "test_data = test_data.drop('ID', axis=1).drop_duplicates(keep='first')\n",
    "test_data.shape"
   ]
  },
  {
   "cell_type": "code",
   "execution_count": 14,
   "metadata": {
    "colab": {
     "base_uri": "https://localhost:8080/"
    },
    "id": "wbUvcrRIzoyN",
    "outputId": "8bed618b-ce22-48c1-d9a9-e9cf83604357",
    "tags": []
   },
   "outputs": [
    {
     "data": {
      "text/plain": [
       "(7584, 12)"
      ]
     },
     "execution_count": 14,
     "metadata": {},
     "output_type": "execute_result"
    }
   ],
   "source": [
    "vars = ['Income', 'Age', 'Experience', 'Married/Single', 'House_Ownership', 'Car_Ownership', 'Profession', 'CITY', 'STATE', 'CURRENT_JOB_YRS', 'CURRENT_HOUSE_YRS']\n",
    "test_data = test_data[~test_data.duplicated(subset=vars, keep=False)]\n",
    "test_data.shape"
   ]
  },
  {
   "cell_type": "markdown",
   "metadata": {
    "id": "ZzDVBxCkzxWF"
   },
   "source": [
    "### **Remarks**\n",
    "\n",
    "Duplicated data points and random labeling are also encountered with test data\\\n",
    "Nonetheless, lets see how far we can go with the predictions"
   ]
  },
  {
   "cell_type": "markdown",
   "metadata": {
    "id": "velZY8_5E4GJ"
   },
   "source": [
    "### **One-hot Encoding categorical variables**"
   ]
  },
  {
   "cell_type": "code",
   "execution_count": 15,
   "metadata": {
    "colab": {
     "base_uri": "https://localhost:8080/"
    },
    "id": "d8ZK70KAD_iU",
    "outputId": "8586f9fc-b007-4ccb-db3e-aadfd900a910",
    "tags": []
   },
   "outputs": [
    {
     "data": {
      "text/plain": [
       "((40824, 11), (40824,))"
      ]
     },
     "execution_count": 15,
     "metadata": {},
     "output_type": "execute_result"
    }
   ],
   "source": [
    "X = train_data.drop(columns=['Risk_Flag'])\n",
    "X_oh = pd.get_dummies(X)\n",
    "y = train_data['Risk_Flag']\n",
    "X.shape, y.shape"
   ]
  },
  {
   "cell_type": "markdown",
   "metadata": {
    "id": "P5equ08zMya3"
   },
   "source": [
    "We will use Random Forest Classifier for training and prediction, therefore, rescaling the data is not necessary"
   ]
  },
  {
   "cell_type": "markdown",
   "metadata": {
    "id": "YjIWm1G831Dl"
   },
   "source": [
    "## **Defaulter Prediction with Random Forest**"
   ]
  },
  {
   "cell_type": "code",
   "execution_count": 16,
   "metadata": {
    "id": "j35DJA8xEb4G",
    "tags": []
   },
   "outputs": [],
   "source": [
    "X_train, X_valid, y_train, y_valid = train_test_split(X_oh, y, train_size=0.8, test_size=0.2)  #Split training data to 8:2 proportion for first time validation"
   ]
  },
  {
   "cell_type": "code",
   "execution_count": 17,
   "metadata": {
    "colab": {
     "base_uri": "https://localhost:8080/"
    },
    "id": "Ambz82g2Eb1C",
    "outputId": "cfae4c69-fec1-4713-f27f-760506d0a632",
    "tags": []
   },
   "outputs": [
    {
     "name": "stdout",
     "output_type": "stream",
     "text": [
      "training_acc: 0.8219228413962033\n",
      "f1 score: 0.0013736263736263737\n"
     ]
    }
   ],
   "source": [
    "rf_model = RandomForestClassifier(n_estimators=250)\n",
    "rf_model.fit(X_train, y_train)\n",
    "acc_train = accuracy_score(y_valid, rf_model.predict(X_valid))\n",
    "f1 = f1_score(y_valid, rf_model.predict(X_valid))\n",
    "print('training_acc: {}'.format(acc_train))\n",
    "print('f1 score: {}'.format(f1))"
   ]
  },
  {
   "cell_type": "markdown",
   "metadata": {
    "id": "4TEfnFWqGsOJ"
   },
   "source": [
    "### **Remarks**\n",
    "* The overall acc is about 82%, and with a little tweaking, it can be further increased\n",
    "* However, f1-score is 0%. This signifies that the model performs extremely poor when predicting positive cases, which is more important is case of a defaulter prediction task.\n",
    "* The reason is unbalanced data, i.e., there is significantly less positive-labeled data points to learn from."
   ]
  },
  {
   "cell_type": "markdown",
   "metadata": {
    "id": "Rywjx7ANJ1Kt"
   },
   "source": [
    "### **Dealing with unbalanced data**"
   ]
  },
  {
   "cell_type": "code",
   "execution_count": 18,
   "metadata": {
    "colab": {
     "base_uri": "https://localhost:8080/",
     "height": 406
    },
    "id": "IybSwZZii9Si",
    "outputId": "2558f3c2-3ad2-44d9-8d17-f6bf0b9ffe81",
    "tags": []
   },
   "outputs": [
    {
     "data": {
      "image/png": "[encoded data removed]",
      "text/plain": [
       "<Figure size 640x480 with 1 Axes>"
      ]
     },
     "metadata": {},
     "output_type": "display_data"
    }
   ],
   "source": [
    "# check for target var proportion\n",
    "r = train_data.groupby('Risk_Flag')['Risk_Flag'].count()\n",
    "plt.pie(r, labels=['Non-Defaulter', 'Defaulter'], radius=1.0, autopct='%1.1f%%');"
   ]
  },
  {
   "cell_type": "markdown",
   "metadata": {
    "id": "BJLaCFG154GH"
   },
   "source": [
    "**Unbalance Data**\n",
    "\n",
    "The label, i.e. Risk_flag column, is not evenly distributed and is likely to produce undesired outcome. To solve this issue, an oversampling method should be used:\n",
    "1. **Random Over Sampling**: this method is easy to implement since, it will increase the dataset size simply by duplicating the original data points randomly\n",
    "2. **SMOTE**: creates synthetic data points based on the original ones. Not only SMOTE increases dataset size, the variety will also be increased"
   ]
  },
  {
   "cell_type": "markdown",
   "metadata": {
    "id": "mh2Lgbh_5u21"
   },
   "source": [
    "### **Random Over Sampling**"
   ]
  },
  {
   "cell_type": "code",
   "execution_count": 19,
   "metadata": {
    "id": "O-7izMcKLeOQ",
    "tags": []
   },
   "outputs": [],
   "source": [
    "random_sampler = RandomOverSampler(random_state=30)\n",
    "X_oversampling, y_oversampling = random_sampler.fit_resample(X, y)"
   ]
  },
  {
   "cell_type": "code",
   "execution_count": 20,
   "metadata": {
    "tags": []
   },
   "outputs": [],
   "source": [
    "X_oh_oversampling = pd.get_dummies(X_oversampling)"
   ]
  },
  {
   "cell_type": "code",
   "execution_count": 21,
   "metadata": {
    "colab": {
     "base_uri": "https://localhost:8080/",
     "height": 295
    },
    "id": "b9RdwjxiL1Xb",
    "outputId": "343aaa12-92a6-44a4-e5e9-1b5930f34bbf",
    "tags": []
   },
   "outputs": [
    {
     "data": {
      "image/png": "[encoded data removed]",
      "text/plain": [
       "<Figure size 400x300 with 1 Axes>"
      ]
     },
     "metadata": {},
     "output_type": "display_data"
    }
   ],
   "source": [
    "pos_samples = y_oversampling.value_counts()[1]\n",
    "neg_samples = y_oversampling.value_counts()[0]\n",
    "fig = plt.figure(figsize=(4, 3))\n",
    "\n",
    "cases = ['positive case', 'negative case']\n",
    "numbers = [pos_samples, neg_samples]\n",
    "plt.bar(cases, numbers, color=['red', 'blue'])\n",
    "for i, number in enumerate(numbers):\n",
    "    plt.text(i, number, number)\n",
    "plt.show()"
   ]
  },
  {
   "cell_type": "code",
   "execution_count": 22,
   "metadata": {
    "id": "HotRj6U0Lnu5",
    "tags": []
   },
   "outputs": [],
   "source": [
    "X_train, X_valid, y_train, y_valid = train_test_split(X_oh_oversampling, y_oversampling, train_size=0.8, test_size=0.2)"
   ]
  },
  {
   "cell_type": "code",
   "execution_count": 23,
   "metadata": {
    "colab": {
     "base_uri": "https://localhost:8080/"
    },
    "id": "9o8OOx5VLr0D",
    "outputId": "84231da1-be80-4ccc-ae3f-413aa9143d53",
    "tags": []
   },
   "outputs": [
    {
     "name": "stdout",
     "output_type": "stream",
     "text": [
      "training_acc: 0.9839118129003426\n",
      "f1 score: 0.9837054918527458\n"
     ]
    }
   ],
   "source": [
    "rf_model = RandomForestClassifier(n_estimators=250)\n",
    "rf_model.fit(X_train, y_train)\n",
    "acc_train = accuracy_score(y_valid, rf_model.predict(X_valid))\n",
    "f1 = f1_score(y_valid, rf_model.predict(X_valid))\n",
    "print('training_acc: {}'.format(acc_train))\n",
    "print('f1 score: {}'.format(f1))"
   ]
  },
  {
   "cell_type": "markdown",
   "metadata": {
    "id": "Wj9c3JAXOeyW"
   },
   "source": [
    "The result seems really good, lets hope the model performs well on the test set"
   ]
  },
  {
   "cell_type": "code",
   "execution_count": 24,
   "metadata": {
    "id": "KmpULZD6OeEs",
    "tags": []
   },
   "outputs": [],
   "source": [
    "X_test = test_data.drop(columns=['risk_flag'])\n",
    "X_test = pd.get_dummies(X_test)\n",
    "y_test = test_data['risk_flag']"
   ]
  },
  {
   "cell_type": "code",
   "execution_count": 25,
   "metadata": {
    "id": "nS6CX3EUMMzH",
    "tags": []
   },
   "outputs": [
    {
     "name": "stdout",
     "output_type": "stream",
     "text": [
      "testing_acc: 0.9182489451476793\n",
      "f1 score: 0.025157232704402514\n"
     ]
    }
   ],
   "source": [
    "acc_test = accuracy_score(y_test, rf_model.predict(X_test))\n",
    "f1_test = f1_score(y_test, rf_model.predict(X_test))\n",
    "print('testing_acc: {}'.format(acc_test))\n",
    "print('f1 score: {}'.format(f1_test))"
   ]
  },
  {
   "cell_type": "markdown",
   "metadata": {
    "id": "Cq0REM12PiTQ"
   },
   "source": [
    "### **Remarks**\n",
    "* Again overall accuracy is good but the model still performs poorly with positive cases on the test set\n",
    "* Let's try SMOTE instead of Random Over Sampling this time"
   ]
  },
  {
   "cell_type": "markdown",
   "metadata": {
    "id": "9EKWPXMPP7Wg",
    "tags": []
   },
   "source": [
    "### **SMOTE**"
   ]
  },
  {
   "cell_type": "code",
   "execution_count": 26,
   "metadata": {
    "id": "T978ToqRPhkx",
    "tags": []
   },
   "outputs": [],
   "source": [
    "smote_sampler = SMOTENC(random_state=30, categorical_features=[3, 4, 5, 6, 7, 8])\n",
    "X_smote, y_smote = smote_sampler.fit_resample(X, y)"
   ]
  },
  {
   "cell_type": "code",
   "execution_count": 27,
   "metadata": {
    "tags": []
   },
   "outputs": [],
   "source": [
    "X_oh_smote = pd.get_dummies(X_smote)"
   ]
  },
  {
   "cell_type": "code",
   "execution_count": 28,
   "metadata": {
    "colab": {
     "base_uri": "https://localhost:8080/",
     "height": 295
    },
    "id": "e4jUkVxzMMqy",
    "outputId": "2dcb450d-b029-4790-e761-323f7d1b107f",
    "tags": []
   },
   "outputs": [
    {
     "data": {
      "image/png": "[encoded data removed]",
      "text/plain": [
       "<Figure size 400x300 with 1 Axes>"
      ]
     },
     "metadata": {},
     "output_type": "display_data"
    }
   ],
   "source": [
    "pos_samples = y_smote.value_counts()[1]\n",
    "neg_samples = y_smote.value_counts()[0]\n",
    "fig = plt.figure(figsize=(4, 3))\n",
    "\n",
    "cases = ['positive case', 'negative case']\n",
    "numbers = [pos_samples, neg_samples]\n",
    "plt.bar(cases, numbers, color=['red', 'blue'])\n",
    "for i, number in enumerate(numbers):\n",
    "    plt.text(i, number, number)\n",
    "plt.show()"
   ]
  },
  {
   "cell_type": "code",
   "execution_count": 29,
   "metadata": {
    "id": "pDVHfTw3Lrxn",
    "tags": []
   },
   "outputs": [],
   "source": [
    "X_train, X_valid, y_train, y_valid = train_test_split(X_oh_smote, y_smote, train_size=0.8, test_size=0.2)"
   ]
  },
  {
   "cell_type": "code",
   "execution_count": 30,
   "metadata": {
    "id": "aoE1OvtyLrvN",
    "tags": []
   },
   "outputs": [
    {
     "name": "stdout",
     "output_type": "stream",
     "text": [
      "training_acc: 0.7285863250409653\n",
      "f1 score: 0.7293925441853557\n"
     ]
    }
   ],
   "source": [
    "rf_model = RandomForestClassifier(n_estimators=250)\n",
    "rf_model.fit(X_train, y_train)\n",
    "acc_train = accuracy_score(y_valid, rf_model.predict(X_valid))\n",
    "f1 = f1_score(y_valid, rf_model.predict(X_valid))\n",
    "print('training_acc: {}'.format(acc_train))\n",
    "print('f1 score: {}'.format(f1))"
   ]
  },
  {
   "cell_type": "code",
   "execution_count": 31,
   "metadata": {
    "id": "4cz96Hg3Lrsi",
    "tags": []
   },
   "outputs": [
    {
     "name": "stdout",
     "output_type": "stream",
     "text": [
      "testing_acc: 0.7792721518987342\n",
      "f1 score: 0.13711340206185565\n"
     ]
    }
   ],
   "source": [
    "acc_test = accuracy_score(y_test, rf_model.predict(X_test))\n",
    "f1_test = f1_score(y_test, rf_model.predict(X_test))\n",
    "print('testing_acc: {}'.format(acc_test))\n",
    "print('f1 score: {}'.format(f1_test))"
   ]
  },
  {
   "cell_type": "markdown",
   "metadata": {},
   "source": [
    "### **Remarks**\n",
    "* This time the performance is not as good for the training set, but the model performs significantly better with positive cases on the test set\n",
    "* The increase of the dataset in terms of variability provided by SMOTE clearly helps in this case."
   ]
  },
  {
   "cell_type": "markdown",
   "metadata": {},
   "source": [
    "## **Conclusion**\n",
    "\n",
    "* A performance of a predictive ML model strongly depends on how well the datast is prepared\n",
    "* Unbalanced data is a challenging problem, and the best way is usually to gather more data.\n",
    "* For a temporary solution to unbalanced data, over sampling method like SMOTE can help in some cases.  "
   ]
  }
 ],
 "metadata": {
  "accelerator": "GPU",
  "colab": {
   "gpuType": "T4",
   "provenance": [],
   "toc_visible": true
  },
  "kernelspec": {
   "display_name": "default:Python",
   "language": "python",
   "name": "conda-env-default-py"
  },
  "language_info": {
   "codemirror_mode": {
    "name": "ipython",
    "version": 3
   },
   "file_extension": ".py",
   "mimetype": "text/x-python",
   "name": "python",
   "nbconvert_exporter": "python",
   "pygments_lexer": "ipython3",
   "version": "3.9.16"
  }
 },
 "nbformat": 4,
 "nbformat_minor": 4
}
